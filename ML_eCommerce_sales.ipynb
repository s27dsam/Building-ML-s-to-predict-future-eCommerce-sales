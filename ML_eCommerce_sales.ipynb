{
 "cells": [
  {
   "cell_type": "code",
   "execution_count": 3,
   "id": "2f0ba96c",
   "metadata": {},
   "outputs": [
    {
     "name": "stderr",
     "output_type": "stream",
     "text": [
      "Setting default log level to \"WARN\".\n",
      "To adjust logging level use sc.setLogLevel(newLevel). For SparkR, use setLogLevel(newLevel).\n",
      "23/11/09 12:15:34 WARN NativeCodeLoader: Unable to load native-hadoop library for your platform... using builtin-java classes where applicable\n"
     ]
    },
    {
     "name": "stdout",
     "output_type": "stream",
     "text": [
      "Spark Session created! \n"
     ]
    }
   ],
   "source": [
    "# Import libraries needed from pyspark\n",
    "from pyspark import SparkConf\n",
    "from pyspark import SparkContext # Spark\n",
    "from pyspark.sql import SparkSession # Spark SQL\n",
    "from pyspark.sql.types import StructType, StructField, IntegerType, StringType, DoubleType, TimestampType, DateType\n",
    "from pyspark.sql.functions import col, sum, round, split\n",
    "from pyspark.sql.functions import udf, max\n",
    "from pyspark.sql.functions import current_date, to_date, datediff, floor, year\n",
    "from pyspark.sql import functions as F\n",
    "from pyspark.sql.functions import count, mean, stddev, min, max, expr, desc\n",
    "from matplotlib import pyplot as plt\n",
    "from pyspark.sql.functions import isnan, when\n",
    "from pyspark.ml.feature import StringIndexer, OneHotEncoder, VectorAssembler\n",
    "from pyspark.ml.linalg import Vectors\n",
    "from pyspark.ml.classification import RandomForestClassifier, GBTClassifier\n",
    "from pyspark.ml import Pipeline\n",
    "from pyspark.ml.evaluation import BinaryClassificationEvaluator\n",
    "# TODO: Create Spark Configuration Object\n",
    "app_name = \"Assignment 2A: Building models to predict future eCommerce sales\"\n",
    "master = \"local[*]\"\n",
    "spark_conf = SparkConf().setMaster(master).setAppName(app_name)\n",
    "# Create SparkSession\n",
    "spark = SparkSession.builder.config(conf=spark_conf).getOrCreate()\n",
    "sc = spark.sparkContext\n",
    "sc.setLogLevel('ERROR')\n",
    "print('Spark Session created! ')"
   ]
  },
  {
   "cell_type": "code",
   "execution_count": 4,
   "id": "a06875ec",
   "metadata": {},
   "outputs": [],
   "source": [
    "# define each column type for each dataset \n",
    "category_schema = StructType([\n",
    "    StructField(\"category_id\", IntegerType(), True), \n",
    "    StructField(\"cat_level1\", IntegerType(), True), \n",
    "    StructField(\"cat_level2\", StringType(), True),\n",
    "    StructField(\"cat_level3\", StringType(), True),\n",
    "])\n",
    "\n",
    "customer_schema = StructType([\n",
    "    StructField(\"row_number\", IntegerType(), True),\n",
    "    StructField(\"customer_id\", IntegerType(), True), \n",
    "    StructField(\"first_name\", StringType(), True), \n",
    "    StructField(\"last_name\", StringType(), True),\n",
    "    StructField(\"username\", StringType(), True),\n",
    "    StructField(\"email\", StringType(), True),\n",
    "    StructField(\"gender\", StringType(), True),\n",
    "    StructField(\"birthdate\", DateType(), True),\n",
    "    StructField(\"device_type\", StringType(), True),\n",
    "    StructField(\"device_id\", StringType(), True),\n",
    "    StructField(\"device_version\", StringType(), True),\n",
    "    StructField(\"home_location_lat\", DoubleType(), True),\n",
    "    StructField(\"home_location_long\", DoubleType(), True),\n",
    "    StructField(\"home_location\", StringType(), True),\n",
    "    StructField(\"home_country\", StringType(), True),\n",
    "    StructField(\"first_join_date\", DateType(), True),\n",
    "])\n",
    "\n",
    "product_schema = StructType([\n",
    "    StructField(\"id\", IntegerType(), True), \n",
    "    StructField(\"gender\", StringType(), True), \n",
    "    StructField(\"baseColour\", StringType(), True),\n",
    "    StructField(\"season\", StringType(), True),\n",
    "    StructField(\"year\", IntegerType(), True),\n",
    "    StructField(\"usage\", StringType(), True),\n",
    "    StructField(\"productDisplayName\", StringType(), True),\n",
    "    StructField(\"category_id\", IntegerType(), True)\n",
    "])\n",
    "\n",
    "\n",
    "clickstream_schema = StructType([\n",
    "    StructField(\"row_number\", IntegerType(), True),\n",
    "    StructField(\"session_id\", StringType(), True), \n",
    "    StructField(\"event_name\", StringType(), True), \n",
    "    StructField(\"event_time\", StringType(), True),\n",
    "    StructField(\"event_id\", StringType(), True),\n",
    "    StructField(\"traffic_source\", StringType(), True),\n",
    "    StructField(\"event_metadata\", StringType(), True)\n",
    "])\n",
    "\n",
    "\n",
    "transaction_schema = StructType([\n",
    "    StructField(\"row_number\", IntegerType(), True),\n",
    "    StructField(\"created_at\", TimestampType(), True), \n",
    "    StructField(\"customer_id\", IntegerType(), True), \n",
    "    StructField(\"booking_id\", IntegerType(), True),\n",
    "    StructField(\"session_id\", StringType(), True),\n",
    "    StructField(\"product_metadata\", StringType(), True),\n",
    "    StructField(\"payment_method\", StringType(), True),\n",
    "    StructField(\"payment_status\", StringType(), True),\n",
    "    StructField(\"promo_amount\", StringType(), True),\n",
    "    StructField(\"promo_code\", StringType(), True),\n",
    "    StructField(\"shipment_fee\", StringType(), True),\n",
    "    StructField(\"shipment_location_lat\", DoubleType(), True),\n",
    "    StructField(\"shipment_location_long\", DoubleType(), True),\n",
    "    StructField(\"total_amount\", DoubleType(), True)\n",
    "])\n",
    "\n",
    "\n",
    "customer_session_schema = StructType([\n",
    "    StructField(\"row_number\", IntegerType(), True), \n",
    "    StructField(\"session_id\", StringType(), True), \n",
    "    StructField(\"customer_id\", IntegerType(), True)\n",
    "])"
   ]
  },
  {
   "cell_type": "code",
   "execution_count": 5,
   "id": "8f6c9b89",
   "metadata": {},
   "outputs": [
    {
     "name": "stdout",
     "output_type": "stream",
     "text": [
      "files loaded and ready to go!\n"
     ]
    }
   ],
   "source": [
    "category = spark.read.csv(\"category.csv\", header=True, schema=category_schema)\n",
    "customer = spark.read.csv(\"customer.csv\", header=True, schema=customer_schema)\n",
    "product = spark.read.csv(\"product.csv\", header=True, schema=product_schema)\n",
    "click_stream = spark.read.csv(\"click_stream.csv\", header=True, schema=clickstream_schema)\n",
    "transaction = spark.read.csv(\"new_transactions.csv\", header=True, schema=transaction_schema)\n",
    "customer_session = spark.read.csv(\"customer_session.csv\", header=True, schema=customer_session_schema)\n",
    "\n",
    "print('files loaded and ready to go!')"
   ]
  },
  {
   "cell_type": "code",
   "execution_count": 6,
   "id": "283b5990",
   "metadata": {
    "scrolled": true
   },
   "outputs": [
    {
     "name": "stdout",
     "output_type": "stream",
     "text": [
      "root\n",
      " |-- row_number: integer (nullable = true)\n",
      " |-- session_id: string (nullable = true)\n",
      " |-- customer_id: integer (nullable = true)\n",
      "\n",
      "root\n",
      " |-- row_number: integer (nullable = true)\n",
      " |-- customer_id: integer (nullable = true)\n",
      " |-- first_name: string (nullable = true)\n",
      " |-- last_name: string (nullable = true)\n",
      " |-- username: string (nullable = true)\n",
      " |-- email: string (nullable = true)\n",
      " |-- gender: string (nullable = true)\n",
      " |-- birthdate: date (nullable = true)\n",
      " |-- device_type: string (nullable = true)\n",
      " |-- device_id: string (nullable = true)\n",
      " |-- device_version: string (nullable = true)\n",
      " |-- home_location_lat: double (nullable = true)\n",
      " |-- home_location_long: double (nullable = true)\n",
      " |-- home_location: string (nullable = true)\n",
      " |-- home_country: string (nullable = true)\n",
      " |-- first_join_date: date (nullable = true)\n",
      "\n",
      "root\n",
      " |-- category_id: integer (nullable = true)\n",
      " |-- cat_level1: integer (nullable = true)\n",
      " |-- cat_level2: string (nullable = true)\n",
      " |-- cat_level3: string (nullable = true)\n",
      "\n",
      "root\n",
      " |-- row_number: integer (nullable = true)\n",
      " |-- session_id: string (nullable = true)\n",
      " |-- event_name: string (nullable = true)\n",
      " |-- event_time: string (nullable = true)\n",
      " |-- event_id: string (nullable = true)\n",
      " |-- traffic_source: string (nullable = true)\n",
      " |-- event_metadata: string (nullable = true)\n",
      "\n",
      "root\n",
      " |-- id: integer (nullable = true)\n",
      " |-- gender: string (nullable = true)\n",
      " |-- baseColour: string (nullable = true)\n",
      " |-- season: string (nullable = true)\n",
      " |-- year: integer (nullable = true)\n",
      " |-- usage: string (nullable = true)\n",
      " |-- productDisplayName: string (nullable = true)\n",
      " |-- category_id: integer (nullable = true)\n",
      "\n",
      "root\n",
      " |-- row_number: integer (nullable = true)\n",
      " |-- created_at: timestamp (nullable = true)\n",
      " |-- customer_id: integer (nullable = true)\n",
      " |-- booking_id: integer (nullable = true)\n",
      " |-- session_id: string (nullable = true)\n",
      " |-- product_metadata: string (nullable = true)\n",
      " |-- payment_method: string (nullable = true)\n",
      " |-- payment_status: string (nullable = true)\n",
      " |-- promo_amount: string (nullable = true)\n",
      " |-- promo_code: string (nullable = true)\n",
      " |-- shipment_fee: string (nullable = true)\n",
      " |-- shipment_location_lat: double (nullable = true)\n",
      " |-- shipment_location_long: double (nullable = true)\n",
      " |-- total_amount: double (nullable = true)\n",
      "\n"
     ]
    }
   ],
   "source": [
    "# print schemas\n",
    "customer_session.printSchema()\n",
    "customer.printSchema()\n",
    "category.printSchema()\n",
    "click_stream.printSchema()\n",
    "product.printSchema()\n",
    "transaction.printSchema()"
   ]
  },
  {
   "cell_type": "code",
   "execution_count": null,
   "id": "64d0a324",
   "metadata": {},
   "outputs": [],
   "source": [
    "# Now we need to perform transformations "
   ]
  },
  {
   "cell_type": "code",
   "execution_count": 7,
   "id": "7398f58a",
   "metadata": {},
   "outputs": [],
   "source": [
    "# In the clickstream dataset, there are 9 types of events:\n",
    "# VIEW_PROMO, SCROLL, ADD_PROMO, VIEW_ITEM, CLICK, PURCHASE, ADD_TO_CART, HOMEPAGE, SEARCH\n",
    "# We categorize them into 3 different categories:\n",
    "# Category 1(high value actions - highly likely to purchase): ADD_PROMO, ADD_TO_CART\n",
    "# Category 2(medium value actions - likely to purchase): VIEW_PROMO, VIEW_ITEM, SEARCH\n",
    "# Category 3(low value actions - just browsing): SCROLL, HOMEPAGE, CLICK"
   ]
  },
  {
   "cell_type": "code",
   "execution_count": 9,
   "id": "6a4b32d4",
   "metadata": {},
   "outputs": [
    {
     "name": "stderr",
     "output_type": "stream",
     "text": [
      "[Stage 0:====================================================>    (13 + 1) / 14]\r"
     ]
    },
    {
     "name": "stdout",
     "output_type": "stream",
     "text": [
      "+--------------------+-----------------+----------------+----------------+\n",
      "|          session_id|num_cat_highvalue|num_cat_midvalue|num_cat_lowvalue|\n",
      "+--------------------+-----------------+----------------+----------------+\n",
      "|2fdb7762-98d5-432...|                1|               2|               2|\n",
      "|e7f689a1-28a0-4fe...|                1|               1|               3|\n",
      "|2faff3e1-25cf-438...|                2|               6|              13|\n",
      "+--------------------+-----------------+----------------+----------------+\n",
      "only showing top 3 rows\n",
      "\n"
     ]
    },
    {
     "name": "stderr",
     "output_type": "stream",
     "text": [
      "\r",
      "                                                                                \r"
     ]
    }
   ],
   "source": [
    "# create conditions for high, medium, and low value actions\n",
    "high_value_cond = (col('event_name') == 'ADD_PROMO') | (col('event_name') == 'ADD_TO_CART')\n",
    "med_value_cond = (col('event_name') == 'VIEW_PROMO') | (col('event_name') == 'VIEW_ITEM') | (col('event_name') == 'SEARCH')\n",
    "low_value_cond = (col('event_name') == 'SCROLL') | (col('event_name') == 'HOMEPAGE') | (col('event_name') == 'CLICK')\n",
    "\n",
    "# group by session_id and aggregate the counts based on the conditions defined above\n",
    "feature_df = click_stream.groupBy('session_id').agg(\n",
    "    sum(high_value_cond.cast('int')).alias('num_cat_highvalue'),\n",
    "    sum(med_value_cond.cast('int')).alias('num_cat_midvalue'),\n",
    "    sum(low_value_cond.cast('int')).alias('num_cat_lowvalue')\n",
    ")\n",
    "\n",
    "feature_df.show(3)"
   ]
  },
  {
   "cell_type": "code",
   "execution_count": 10,
   "id": "2921e9fa",
   "metadata": {},
   "outputs": [
    {
     "name": "stderr",
     "output_type": "stream",
     "text": [
      "[Stage 3:====================================================>    (13 + 1) / 14]\r"
     ]
    },
    {
     "name": "stdout",
     "output_type": "stream",
     "text": [
      "+--------------------+-----------------+----------------+----------------+-------------+----------------+---------------+\n",
      "|          session_id|num_cat_highvalue|num_cat_midvalue|num_cat_lowvalue|total_actions|high_value_ratio|low_value_ratio|\n",
      "+--------------------+-----------------+----------------+----------------+-------------+----------------+---------------+\n",
      "|2fdb7762-98d5-432...|                1|               2|               2|            5|            20.0|           40.0|\n",
      "|e7f689a1-28a0-4fe...|                1|               1|               3|            5|            20.0|           60.0|\n",
      "|2faff3e1-25cf-438...|                2|               6|              13|           21|            9.52|           61.9|\n",
      "|3f2d99e1-51ff-402...|                1|               0|               2|            3|           33.33|          66.67|\n",
      "|5386d3f4-98ea-448...|                2|               9|              18|           29|             6.9|          62.07|\n",
      "+--------------------+-----------------+----------------+----------------+-------------+----------------+---------------+\n",
      "only showing top 5 rows\n",
      "\n"
     ]
    },
    {
     "name": "stderr",
     "output_type": "stream",
     "text": [
      "\r",
      "                                                                                \r"
     ]
    }
   ],
   "source": [
    "# total actions for each session\n",
    "feature_df = feature_df.withColumn('total_actions', \n",
    "                                   col('num_cat_highvalue') + col('num_cat_midvalue') + col('num_cat_lowvalue'))\n",
    "\n",
    "# high value ratio\n",
    "feature_df = feature_df.withColumn(\n",
    "    'high_value_ratio', (col('num_cat_highvalue') / col('total_actions') * 100))\n",
    "\n",
    "# low value ratio\n",
    "feature_df = feature_df.withColumn(\n",
    "    'low_value_ratio', (col('num_cat_lowvalue') / col('total_actions') * 100))\n",
    "\n",
    "# round the ratios \n",
    "feature_df = feature_df.withColumn('high_value_ratio', round(col('high_value_ratio'), 2))\n",
    "feature_df = feature_df.withColumn('low_value_ratio', round(col('low_value_ratio'), 2))\n",
    "\n",
    "\n",
    "feature_df.show(5)"
   ]
  },
  {
   "cell_type": "code",
   "execution_count": 11,
   "id": "883e2e7b",
   "metadata": {},
   "outputs": [
    {
     "name": "stderr",
     "output_type": "stream",
     "text": [
      "[Stage 7:====================================================>    (13 + 1) / 14]\r"
     ]
    },
    {
     "name": "stdout",
     "output_type": "stream",
     "text": [
      "+--------------------+-----------------+----------------+----------------+-------------+----------------+---------------+------------+\n",
      "|          session_id|num_cat_highvalue|num_cat_midvalue|num_cat_lowvalue|total_actions|high_value_ratio|low_value_ratio|is_promotion|\n",
      "+--------------------+-----------------+----------------+----------------+-------------+----------------+---------------+------------+\n",
      "|2faff3e1-25cf-438...|                2|               6|              13|           21|            9.52|           61.9|           1|\n",
      "|2fdb7762-98d5-432...|                1|               2|               2|            5|            20.0|           40.0|           0|\n",
      "|3f2d99e1-51ff-402...|                1|               0|               2|            3|           33.33|          66.67|           0|\n",
      "+--------------------+-----------------+----------------+----------------+-------------+----------------+---------------+------------+\n",
      "only showing top 3 rows\n",
      "\n"
     ]
    },
    {
     "name": "stderr",
     "output_type": "stream",
     "text": [
      "\r",
      "                                                                                \r"
     ]
    }
   ],
   "source": [
    "# define function\n",
    "def has_promo(event_name):\n",
    "    if event_name == 'ADD_PROMO':\n",
    "        return 1\n",
    "    else:\n",
    "        return 0\n",
    "\n",
    "# create UDF\n",
    "has_promo_udf = udf(has_promo, IntegerType())\n",
    "\n",
    "# Apply the UDF to column \n",
    "click_stream = click_stream.withColumn(\"is_promotion\", has_promo_udf(click_stream[\"event_name\"]))\n",
    "\n",
    "# group by session_id and find if any event in the session was \"ADD_PROMO\"\n",
    "promo_df = click_stream.groupBy('session_id').agg(max('is_promotion').alias('is_promotion'))\n",
    "\n",
    "# join this information back to feature_df\n",
    "feature_df = feature_df.join(promo_df, on='session_id', how='left')\n",
    "\n",
    "\n",
    "feature_df.show(3)"
   ]
  },
  {
   "cell_type": "code",
   "execution_count": 12,
   "id": "4b784056",
   "metadata": {},
   "outputs": [
    {
     "name": "stdout",
     "output_type": "stream",
     "text": [
      "root\n",
      " |-- session_id: string (nullable = true)\n",
      " |-- num_cat_highvalue: long (nullable = true)\n",
      " |-- num_cat_midvalue: long (nullable = true)\n",
      " |-- num_cat_lowvalue: long (nullable = true)\n",
      " |-- total_actions: long (nullable = true)\n",
      " |-- high_value_ratio: double (nullable = true)\n",
      " |-- low_value_ratio: double (nullable = true)\n",
      " |-- is_promotion: integer (nullable = true)\n",
      "\n"
     ]
    }
   ],
   "source": [
    "feature_df.printSchema()"
   ]
  },
  {
   "cell_type": "code",
   "execution_count": 13,
   "id": "f6ac240f",
   "metadata": {},
   "outputs": [
    {
     "name": "stderr",
     "output_type": "stream",
     "text": [
      "[Stage 17:>                                                         (0 + 1) / 1]\r"
     ]
    },
    {
     "name": "stdout",
     "output_type": "stream",
     "text": [
      "+--------------------+-----------------+----------------+----------------+-------------+----------------+---------------+------------+------------+\n",
      "|          session_id|num_cat_highvalue|num_cat_midvalue|num_cat_lowvalue|total_actions|high_value_ratio|low_value_ratio|is_promotion|Event_Season|\n",
      "+--------------------+-----------------+----------------+----------------+-------------+----------------+---------------+------------+------------+\n",
      "|2faff3e1-25cf-438...|                2|               6|              13|           21|            9.52|           61.9|           1|      Autumn|\n",
      "|2fdb7762-98d5-432...|                1|               2|               2|            5|            20.0|           40.0|           0|      Spring|\n",
      "+--------------------+-----------------+----------------+----------------+-------------+----------------+---------------+------------+------------+\n",
      "only showing top 2 rows\n",
      "\n"
     ]
    },
    {
     "name": "stderr",
     "output_type": "stream",
     "text": [
      "\r",
      "                                                                                \r"
     ]
    }
   ],
   "source": [
    "# extract the month from the event_time column \n",
    "split_col = split(click_stream['event_time'], '-')\n",
    "click_stream = click_stream.withColumn('month', split_col.getItem(1))\n",
    "\n",
    "# define function \n",
    "def which_season(month):\n",
    "    if month in ('12', '01', '02'):\n",
    "        return 'Winter'\n",
    "    elif month in ('06', '07', '08'):\n",
    "        return 'Summer'\n",
    "    elif month in ('09', '10', '11'):\n",
    "        return 'Autumn'\n",
    "    else:\n",
    "        return 'Spring'\n",
    "\n",
    "# create UDF\n",
    "which_season_udf = udf(which_season, StringType())\n",
    "\n",
    "# apply the UDF to the month column to create a new column \"Event_Season\"\n",
    "click_stream = click_stream.withColumn(\"Event_Season\", which_season_udf(col(\"month\")))\n",
    "\n",
    "# group by session_id and take the maximum occurring season\n",
    "season_df = click_stream.groupBy('session_id').agg(max('Event_Season').alias('Event_Season'))\n",
    "\n",
    "# join this information back to feature_df\n",
    "feature_df = feature_df.join(season_df, on='session_id', how='left')\n",
    "\n",
    "\n",
    "feature_df.show(2)"
   ]
  },
  {
   "cell_type": "code",
   "execution_count": 14,
   "id": "48aa74ce",
   "metadata": {},
   "outputs": [
    {
     "name": "stdout",
     "output_type": "stream",
     "text": [
      "root\n",
      " |-- session_id: string (nullable = true)\n",
      " |-- num_cat_highvalue: long (nullable = true)\n",
      " |-- num_cat_midvalue: long (nullable = true)\n",
      " |-- num_cat_lowvalue: long (nullable = true)\n",
      " |-- total_actions: long (nullable = true)\n",
      " |-- high_value_ratio: double (nullable = true)\n",
      " |-- low_value_ratio: double (nullable = true)\n",
      " |-- is_promotion: integer (nullable = true)\n",
      " |-- Event_Season: string (nullable = true)\n",
      "\n"
     ]
    }
   ],
   "source": [
    "feature_df.printSchema()"
   ]
  },
  {
   "cell_type": "code",
   "execution_count": 15,
   "id": "a0644e39",
   "metadata": {},
   "outputs": [],
   "source": [
    "# join customer session with feature_df on session_id\n",
    "feature_df = feature_df.join(customer_session, on='session_id', how='left')\n"
   ]
  },
  {
   "cell_type": "code",
   "execution_count": 16,
   "id": "8b2a40f4",
   "metadata": {},
   "outputs": [],
   "source": [
    "feature_df = feature_df.join(customer.withColumnRenamed('row_number', 'customer_row_number')\n",
    "                                      .withColumnRenamed('customer_id', 'customer_customer_id'),\n",
    "                             on=col('customer_id') == col('customer_customer_id'), how='left')"
   ]
  },
  {
   "cell_type": "code",
   "execution_count": 17,
   "id": "c4422220",
   "metadata": {},
   "outputs": [],
   "source": [
    "feature_df = feature_df.withColumn('age', floor(datediff(current_date(), to_date(col('birthdate'), 'yyyy-MM-dd'))/365.25))\n"
   ]
  },
  {
   "cell_type": "code",
   "execution_count": 18,
   "id": "df4f0176",
   "metadata": {},
   "outputs": [],
   "source": [
    "# extract the year from the eventtime column\n",
    "feature_df = feature_df.withColumn('year', year(to_date(col('first_join_date'), 'yyyy-MM-dd')))\n",
    "\n",
    "# cast age and year columns to int type\n",
    "feature_df = feature_df.withColumn(\"age\", col(\"age\").cast('int'))\n",
    "feature_df = feature_df.withColumn(\"year\", col(\"year\").cast('int'))"
   ]
  },
  {
   "cell_type": "code",
   "execution_count": 19,
   "id": "4ca0d17a",
   "metadata": {},
   "outputs": [
    {
     "name": "stdout",
     "output_type": "stream",
     "text": [
      "root\n",
      " |-- session_id: string (nullable = true)\n",
      " |-- num_cat_highvalue: long (nullable = true)\n",
      " |-- num_cat_midvalue: long (nullable = true)\n",
      " |-- num_cat_lowvalue: long (nullable = true)\n",
      " |-- total_actions: long (nullable = true)\n",
      " |-- high_value_ratio: double (nullable = true)\n",
      " |-- low_value_ratio: double (nullable = true)\n",
      " |-- is_promotion: integer (nullable = true)\n",
      " |-- Event_Season: string (nullable = true)\n",
      " |-- row_number: integer (nullable = true)\n",
      " |-- customer_id: integer (nullable = true)\n",
      " |-- customer_row_number: integer (nullable = true)\n",
      " |-- customer_customer_id: integer (nullable = true)\n",
      " |-- first_name: string (nullable = true)\n",
      " |-- last_name: string (nullable = true)\n",
      " |-- username: string (nullable = true)\n",
      " |-- email: string (nullable = true)\n",
      " |-- gender: string (nullable = true)\n",
      " |-- birthdate: date (nullable = true)\n",
      " |-- device_type: string (nullable = true)\n",
      " |-- device_id: string (nullable = true)\n",
      " |-- device_version: string (nullable = true)\n",
      " |-- home_location_lat: double (nullable = true)\n",
      " |-- home_location_long: double (nullable = true)\n",
      " |-- home_location: string (nullable = true)\n",
      " |-- home_country: string (nullable = true)\n",
      " |-- first_join_date: date (nullable = true)\n",
      " |-- age: integer (nullable = true)\n",
      " |-- year: integer (nullable = true)\n",
      "\n"
     ]
    }
   ],
   "source": [
    "feature_df.printSchema()"
   ]
  },
  {
   "cell_type": "code",
   "execution_count": 20,
   "id": "80c44cef",
   "metadata": {},
   "outputs": [],
   "source": [
    "feature_df = feature_df.select('customer_id','session_id','num_cat_highvalue','num_cat_midvalue','num_cat_lowvalue',\n",
    " 'low_value_ratio','high_value_ratio','is_promotion','Event_Season',\n",
    "                               'gender','home_location','device_type','age','year')"
   ]
  },
  {
   "cell_type": "code",
   "execution_count": 21,
   "id": "4fdfc220",
   "metadata": {},
   "outputs": [
    {
     "name": "stdout",
     "output_type": "stream",
     "text": [
      "root\n",
      " |-- customer_id: integer (nullable = true)\n",
      " |-- session_id: string (nullable = true)\n",
      " |-- num_cat_highvalue: long (nullable = true)\n",
      " |-- num_cat_midvalue: long (nullable = true)\n",
      " |-- num_cat_lowvalue: long (nullable = true)\n",
      " |-- low_value_ratio: double (nullable = true)\n",
      " |-- high_value_ratio: double (nullable = true)\n",
      " |-- is_promotion: integer (nullable = true)\n",
      " |-- Event_Season: string (nullable = true)\n",
      " |-- gender: string (nullable = true)\n",
      " |-- home_location: string (nullable = true)\n",
      " |-- device_type: string (nullable = true)\n",
      " |-- age: integer (nullable = true)\n",
      " |-- year: integer (nullable = true)\n",
      "\n"
     ]
    }
   ],
   "source": [
    "feature_df.printSchema()"
   ]
  },
  {
   "cell_type": "code",
   "execution_count": 22,
   "id": "a5d27ed4",
   "metadata": {},
   "outputs": [],
   "source": [
    "# we cant just look at if a customer_id is in the transaction table as the payment might be invalid.\n",
    "# we can only count a purchase if the payment is a success because that is what defines a purchase.\n",
    "# join transaction on session_id\n",
    "feature_df_with_purchase = feature_df.join(transaction, on='session_id', how='left_outer')"
   ]
  },
  {
   "cell_type": "code",
   "execution_count": 23,
   "id": "6f4a18a9",
   "metadata": {},
   "outputs": [
    {
     "name": "stderr",
     "output_type": "stream",
     "text": [
      "[Stage 25:============>                                             (2 + 7) / 9]\r"
     ]
    },
    {
     "name": "stdout",
     "output_type": "stream",
     "text": [
      "+--------------+\n",
      "|payment_status|\n",
      "+--------------+\n",
      "|          null|\n",
      "|       Success|\n",
      "|          Fail|\n",
      "+--------------+\n",
      "\n"
     ]
    },
    {
     "name": "stderr",
     "output_type": "stream",
     "text": [
      "\r",
      "                                                                                \r"
     ]
    }
   ],
   "source": [
    "# A user either makes the purchase = Success \n",
    "# Does not make the Purchase = null \n",
    "# or fails to make a purchase = failed\n",
    "feature_df_with_purchase.select('payment_status').distinct().show()"
   ]
  },
  {
   "cell_type": "code",
   "execution_count": 24,
   "id": "90f7e523",
   "metadata": {},
   "outputs": [
    {
     "name": "stderr",
     "output_type": "stream",
     "text": [
      "[Stage 38:>                                                         (0 + 8) / 9]\r"
     ]
    },
    {
     "name": "stdout",
     "output_type": "stream",
     "text": [
      "+--------------+\n",
      "|payment_status|\n",
      "+--------------+\n",
      "|             1|\n",
      "|             0|\n",
      "+--------------+\n",
      "\n"
     ]
    },
    {
     "name": "stderr",
     "output_type": "stream",
     "text": [
      "\r",
      "[Stage 38:===================================================>      (8 + 1) / 9]\r",
      "\r",
      "                                                                                \r"
     ]
    }
   ],
   "source": [
    "# transformations of gender\n",
    "def purchase_made(s):\n",
    "    if s == 'Success':\n",
    "        return 1\n",
    "    else:\n",
    "        return 0\n",
    "\n",
    "# Step 2: Create a UDF\n",
    "purchase_made_udf = udf(purchase_made, IntegerType())\n",
    "\n",
    "# Step 3: Apply the UDF to the desired column\n",
    "feature_df_with_purchase = feature_df_with_purchase.withColumn(\"payment_status\", purchase_made_udf(feature_df_with_purchase[\"payment_status\"]))\n",
    "\n",
    "feature_df_with_purchase.select('payment_status').distinct().show()"
   ]
  },
  {
   "cell_type": "code",
   "execution_count": 25,
   "id": "4503fcd3",
   "metadata": {},
   "outputs": [
    {
     "name": "stdout",
     "output_type": "stream",
     "text": [
      "root\n",
      " |-- session_id: string (nullable = true)\n",
      " |-- customer_id: integer (nullable = true)\n",
      " |-- num_cat_highvalue: long (nullable = true)\n",
      " |-- num_cat_midvalue: long (nullable = true)\n",
      " |-- num_cat_lowvalue: long (nullable = true)\n",
      " |-- low_value_ratio: double (nullable = true)\n",
      " |-- high_value_ratio: double (nullable = true)\n",
      " |-- is_promotion: integer (nullable = true)\n",
      " |-- Event_Season: string (nullable = true)\n",
      " |-- gender: string (nullable = true)\n",
      " |-- home_location: string (nullable = true)\n",
      " |-- device_type: string (nullable = true)\n",
      " |-- age: integer (nullable = true)\n",
      " |-- year: integer (nullable = true)\n",
      " |-- row_number: integer (nullable = true)\n",
      " |-- created_at: timestamp (nullable = true)\n",
      " |-- customer_id: integer (nullable = true)\n",
      " |-- booking_id: integer (nullable = true)\n",
      " |-- product_metadata: string (nullable = true)\n",
      " |-- payment_method: string (nullable = true)\n",
      " |-- payment_status: integer (nullable = true)\n",
      " |-- promo_amount: string (nullable = true)\n",
      " |-- promo_code: string (nullable = true)\n",
      " |-- shipment_fee: string (nullable = true)\n",
      " |-- shipment_location_lat: double (nullable = true)\n",
      " |-- shipment_location_long: double (nullable = true)\n",
      " |-- total_amount: double (nullable = true)\n",
      "\n"
     ]
    }
   ],
   "source": [
    "feature_df_with_purchase.printSchema()"
   ]
  },
  {
   "cell_type": "code",
   "execution_count": 26,
   "id": "b94a1f15",
   "metadata": {},
   "outputs": [],
   "source": [
    "# rename the payment_status to label \n",
    "feature_df_with_purchase = feature_df_with_purchase.withColumnRenamed(\"payment_status\",\"label\")"
   ]
  },
  {
   "cell_type": "code",
   "execution_count": 27,
   "id": "fcfd0038",
   "metadata": {},
   "outputs": [
    {
     "name": "stdout",
     "output_type": "stream",
     "text": [
      "root\n",
      " |-- session_id: string (nullable = true)\n",
      " |-- customer_id: integer (nullable = true)\n",
      " |-- num_cat_highvalue: long (nullable = true)\n",
      " |-- num_cat_midvalue: long (nullable = true)\n",
      " |-- num_cat_lowvalue: long (nullable = true)\n",
      " |-- low_value_ratio: double (nullable = true)\n",
      " |-- high_value_ratio: double (nullable = true)\n",
      " |-- is_promotion: integer (nullable = true)\n",
      " |-- Event_Season: string (nullable = true)\n",
      " |-- gender: string (nullable = true)\n",
      " |-- home_location: string (nullable = true)\n",
      " |-- device_type: string (nullable = true)\n",
      " |-- age: integer (nullable = true)\n",
      " |-- year: integer (nullable = true)\n",
      " |-- row_number: integer (nullable = true)\n",
      " |-- created_at: timestamp (nullable = true)\n",
      " |-- customer_id: integer (nullable = true)\n",
      " |-- booking_id: integer (nullable = true)\n",
      " |-- product_metadata: string (nullable = true)\n",
      " |-- payment_method: string (nullable = true)\n",
      " |-- label: integer (nullable = true)\n",
      " |-- promo_amount: string (nullable = true)\n",
      " |-- promo_code: string (nullable = true)\n",
      " |-- shipment_fee: string (nullable = true)\n",
      " |-- shipment_location_lat: double (nullable = true)\n",
      " |-- shipment_location_long: double (nullable = true)\n",
      " |-- total_amount: double (nullable = true)\n",
      "\n"
     ]
    }
   ],
   "source": [
    "feature_df_with_purchase.printSchema()"
   ]
  },
  {
   "cell_type": "code",
   "execution_count": null,
   "id": "b74a0ba4",
   "metadata": {},
   "outputs": [],
   "source": [
    "# now we do some EDA"
   ]
  },
  {
   "cell_type": "code",
   "execution_count": 28,
   "id": "b17af8c6",
   "metadata": {},
   "outputs": [
    {
     "name": "stderr",
     "output_type": "stream",
     "text": [
      "[Stage 56:>                                                         (0 + 1) / 1]\r"
     ]
    },
    {
     "name": "stdout",
     "output_type": "stream",
     "text": [
      "+-------+-----------------+------------------+------------------+------------------+-----------------+\n",
      "|summary|num_cat_highvalue|  num_cat_midvalue|  num_cat_lowvalue|   low_value_ratio| high_value_ratio|\n",
      "+-------+-----------------+------------------+------------------+------------------+-----------------+\n",
      "|  count|           895203|            895203|            895203|            895203|           895203|\n",
      "|   mean|2.528691257737072|3.4278180479734766|7.4270696143779675| 52.46481924211479|26.12244419422314|\n",
      "| stddev| 2.29995610601219| 4.475989272102889| 9.239566040509843|16.545809924504603|17.57811167783582|\n",
      "|    min|                0|                 0|                 1|              1.82|              0.0|\n",
      "|    25%|                1|                 1|                 2|              40.0|             12.5|\n",
      "|    50%|                2|                 2|                 5|             52.94|             25.0|\n",
      "|    75%|                3|                 5|                 9|             66.67|            33.33|\n",
      "|    max|               53|               157|               512|             100.0|            96.67|\n",
      "+-------+-----------------+------------------+------------------+------------------+-----------------+\n",
      "\n"
     ]
    },
    {
     "name": "stderr",
     "output_type": "stream",
     "text": [
      "\r",
      "                                                                                \r"
     ]
    }
   ],
   "source": [
    "# list of numeric columns\n",
    "numeric_columns = [\"num_cat_highvalue\", \"num_cat_midvalue\", \"num_cat_lowvalue\", \n",
    "                   \"low_value_ratio\", \"high_value_ratio\"]\n",
    "feature_df_with_purchase.select(numeric_columns).summary().show()"
   ]
  },
  {
   "cell_type": "code",
   "execution_count": 29,
   "id": "5e142c4c",
   "metadata": {},
   "outputs": [
    {
     "name": "stderr",
     "output_type": "stream",
     "text": [
      "[Stage 64:===================================================>      (8 + 1) / 9]\r"
     ]
    },
    {
     "name": "stdout",
     "output_type": "stream",
     "text": [
      "+-------+------------------+------------------+\n",
      "|summary|               age|              year|\n",
      "+-------+------------------+------------------+\n",
      "|  count|            852582|            852582|\n",
      "|   mean|27.267948420210608| 2018.674827758503|\n",
      "| stddev|  7.28509480115457|1.6759156622858058|\n",
      "|    min|                 7|              2016|\n",
      "|    25%|                22|              2017|\n",
      "|    50%|                27|              2019|\n",
      "|    75%|                32|              2020|\n",
      "|    max|                69|              2022|\n",
      "+-------+------------------+------------------+\n",
      "\n"
     ]
    },
    {
     "name": "stderr",
     "output_type": "stream",
     "text": [
      "\r",
      "                                                                                \r"
     ]
    }
   ],
   "source": [
    "feature_df_with_purchase.select('age','year').summary().show()"
   ]
  },
  {
   "cell_type": "code",
   "execution_count": 30,
   "id": "374a9b81",
   "metadata": {},
   "outputs": [
    {
     "name": "stderr",
     "output_type": "stream",
     "text": [
      "                                                                                \r"
     ]
    },
    {
     "name": "stdout",
     "output_type": "stream",
     "text": [
      "+--------------------+-----+\n",
      "|          session_id|count|\n",
      "+--------------------+-----+\n",
      "|00008762-b685-4f9...|    1|\n",
      "|000593e4-535e-43f...|    1|\n",
      "|00005746-17ec-449...|    1|\n",
      "|0008e4fe-a620-4f9...|    1|\n",
      "|00003eca-954b-415...|    1|\n",
      "+--------------------+-----+\n",
      "only showing top 5 rows\n",
      "\n"
     ]
    },
    {
     "name": "stderr",
     "output_type": "stream",
     "text": [
      "                                                                                \r"
     ]
    },
    {
     "name": "stdout",
     "output_type": "stream",
     "text": [
      "+------------+------+\n",
      "|Event_Season| count|\n",
      "+------------+------+\n",
      "|      Summer|253699|\n",
      "|      Winter|243099|\n",
      "|      Spring|219240|\n",
      "|      Autumn|179165|\n",
      "+------------+------+\n",
      "\n"
     ]
    },
    {
     "name": "stderr",
     "output_type": "stream",
     "text": [
      "                                                                                \r"
     ]
    },
    {
     "name": "stdout",
     "output_type": "stream",
     "text": [
      "+------+------+\n",
      "|gender| count|\n",
      "+------+------+\n",
      "|     F|543509|\n",
      "|     M|309073|\n",
      "|  null| 42621|\n",
      "+------+------+\n",
      "\n"
     ]
    },
    {
     "name": "stderr",
     "output_type": "stream",
     "text": [
      "                                                                                \r"
     ]
    },
    {
     "name": "stdout",
     "output_type": "stream",
     "text": [
      "+-------------+------+\n",
      "|home_location| count|\n",
      "+-------------+------+\n",
      "| Jakarta Raya|156698|\n",
      "|   Jawa Barat|101244|\n",
      "|  Jawa Tengah| 95240|\n",
      "|   Jawa Timur| 81106|\n",
      "|   Yogyakarta| 66444|\n",
      "+-------------+------+\n",
      "only showing top 5 rows\n",
      "\n"
     ]
    },
    {
     "name": "stderr",
     "output_type": "stream",
     "text": [
      "[Stage 127:>                                                        (0 + 8) / 9]\r"
     ]
    },
    {
     "name": "stdout",
     "output_type": "stream",
     "text": [
      "+-----------+------+\n",
      "|device_type| count|\n",
      "+-----------+------+\n",
      "|    Android|656809|\n",
      "|        iOS|195773|\n",
      "|       null| 42621|\n",
      "+-----------+------+\n",
      "\n"
     ]
    },
    {
     "name": "stderr",
     "output_type": "stream",
     "text": [
      "\r",
      "[Stage 127:===================>                                     (3 + 6) / 9]\r",
      "\r",
      "                                                                                \r"
     ]
    }
   ],
   "source": [
    "# list of Category columns\n",
    "non_numeric_columns = [\"session_id\", \"Event_Season\", \"gender\", \"home_location\", \"device_type\"]\n",
    "\n",
    "for col_name in non_numeric_columns:\n",
    "    feature_df_with_purchase.groupBy(col_name).count().orderBy(col('count').desc()).show(5)"
   ]
  },
  {
   "cell_type": "code",
   "execution_count": 31,
   "id": "a4e0ac9a",
   "metadata": {},
   "outputs": [
    {
     "name": "stderr",
     "output_type": "stream",
     "text": [
      "                                                                                \r"
     ]
    },
    {
     "name": "stdout",
     "output_type": "stream",
     "text": [
      "+------------+------+\n",
      "|is_promotion| count|\n",
      "+------------+------+\n",
      "|           1|326535|\n",
      "|           0|568668|\n",
      "+------------+------+\n",
      "\n"
     ]
    },
    {
     "name": "stderr",
     "output_type": "stream",
     "text": [
      "[Stage 156:===============================>                         (5 + 4) / 9]\r"
     ]
    },
    {
     "name": "stdout",
     "output_type": "stream",
     "text": [
      "+-----+------+\n",
      "|label| count|\n",
      "+-----+------+\n",
      "|    1|527812|\n",
      "|    0|367391|\n",
      "+-----+------+\n",
      "\n"
     ]
    },
    {
     "name": "stderr",
     "output_type": "stream",
     "text": [
      "\r",
      "                                                                                \r"
     ]
    }
   ],
   "source": [
    "# list of binary columns\n",
    "boolean_columns = [\"is_promotion\", \"label\"]\n",
    "\n",
    "for col_name in boolean_columns:\n",
    "    feature_df_with_purchase.groupBy(col_name).count().show()"
   ]
  },
  {
   "cell_type": "code",
   "execution_count": 32,
   "id": "c451aaaa",
   "metadata": {},
   "outputs": [
    {
     "name": "stderr",
     "output_type": "stream",
     "text": [
      "                                                                                \r"
     ]
    },
    {
     "data": {
      "image/png": "[encoded data removed]",
      "text/plain": [
       "<Figure size 640x480 with 1 Axes>"
      ]
     },
     "metadata": {},
     "output_type": "display_data"
    }
   ],
   "source": [
    "season_purchase_df = feature_df_with_purchase.groupBy(\"Event_Season\", \"label\").count().toPandas()\n",
    "\n",
    "#bar plot\n",
    "season_purchase_df.pivot(index='Event_Season', columns='label', values='count').plot(kind='bar')\n",
    "\n",
    "plt.title('Purchase Distribution Across Seasons')\n",
    "plt.xlabel('Seasons')\n",
    "plt.ylabel('Count of Purchases')\n",
    "\n",
    "plt.show()"
   ]
  },
  {
   "cell_type": "code",
   "execution_count": 33,
   "id": "aa9149be",
   "metadata": {},
   "outputs": [
    {
     "name": "stderr",
     "output_type": "stream",
     "text": [
      "                                                                                \r"
     ]
    },
    {
     "data": {
      "image/png": "[encoded data removed]",
      "text/plain": [
       "<Figure size 640x480 with 1 Axes>"
      ]
     },
     "metadata": {},
     "output_type": "display_data"
    }
   ],
   "source": [
    "age_purchase_df = feature_df_with_purchase.filter(\"label = 1\").select(\"age\").toPandas()\n",
    "\n",
    "# histogram\n",
    "plt.hist(age_purchase_df['age'], bins=10, edgecolor='black')\n",
    "\n",
    "plt.title('Age Distribution of Customers Making Purchases')\n",
    "plt.xlabel('Age')\n",
    "plt.ylabel('Count of Purchases')\n",
    "\n",
    "plt.show()"
   ]
  },
  {
   "cell_type": "code",
   "execution_count": 34,
   "id": "64092e71",
   "metadata": {},
   "outputs": [],
   "source": [
    "#Deciding on which features could be selcted \n",
    "\n",
    "# Event_Season: certain product may only be needed in the winter.\n",
    "\n",
    "# home_location: Geographical factors can have an impact as different regions might have varied consumer behaviour for economic reasons.\n",
    "\n",
    "# gender: if product is gender-specific it can have an impact\n",
    "\n",
    "# age: can have a large impact on whether someone purchases as the amount of money someone has is strongly link to their age and interests over time.\n",
    "\n",
    "# year: can have an impact where large economic and environmental changes happened such as COVID which may lead to more or less of buying a certain product or service.\n",
    "\n",
    "# device_type: It maybe that because iphones are more expensive meanly tey are more likly to buy or that the phones are less likely to crash.\n",
    "\n",
    "# payment_method: maybe certain payment methods are more prone to fail or maybe people who try to buy without having enough funds use a simular payment method.\n",
    "\n",
    "# shipment_fee: maybe people dont see the shiping fee cost and the payment fails and then decide aganist buyign the product.\n",
    "\n",
    "# is_promotion: promstion may increase the likelihood someone will buy as its on sale.\n",
    "\n",
    "# total_amount: maybe people dont know how much they have in their account and thus the purchase fails and maybe this is more common in more expensive products.\n",
    "\n",
    "# num_cat_highvalue, num_cat_midvalue, num_cat_lowvalue: Customers purchasing high-value items might be different demographically than those purchasing low-value items.\n",
    "\n",
    "# low_value_ratio, high_value_ratio: These ratios offer a normalised perspective of the customer's purchasing preference.\n",
    "\n",
    "# Event_Season, home_location and payment_method we can use StringIndexer and OneHotEncoder. device_type and gender we can make binary"
   ]
  },
  {
   "cell_type": "code",
   "execution_count": 38,
   "id": "9ed0477b",
   "metadata": {},
   "outputs": [],
   "source": [
    "feature_df_with_purchase = feature_df_with_purchase.select('Event_Season', 'home_location', \n",
    "                                                           'gender', 'num_cat_highvalue', \n",
    "                                                           'num_cat_midvalue', 'num_cat_lowvalue',\n",
    "                                                           'low_value_ratio', 'high_value_ratio', \n",
    "                                                           'is_promotion', 'age', 'year','label',\n",
    "                                                           'shipment_fee','total_amount','payment_method','device_type')"
   ]
  },
  {
   "cell_type": "code",
   "execution_count": 39,
   "id": "4d930e55",
   "metadata": {},
   "outputs": [],
   "source": [
    "feature_df_with_purchase = feature_df_with_purchase.withColumn(\"num_cat_highvalue\",feature_df_with_purchase.num_cat_highvalue.cast('int'))\n",
    "feature_df_with_purchase = feature_df_with_purchase.withColumn(\"num_cat_midvalue\",feature_df_with_purchase.num_cat_midvalue.cast('int'))\n",
    "feature_df_with_purchase = feature_df_with_purchase.withColumn(\"num_cat_lowvalue\",feature_df_with_purchase.num_cat_lowvalue.cast('int'))\n",
    "feature_df_with_purchase = feature_df_with_purchase.withColumn(\"low_value_ratio\",feature_df_with_purchase.low_value_ratio.cast('double'))\n",
    "feature_df_with_purchase = feature_df_with_purchase.withColumn(\"high_value_ratio\",feature_df_with_purchase.high_value_ratio.cast('double'))\n",
    "feature_df_with_purchase = feature_df_with_purchase.withColumn(\"shipment_fee\",feature_df_with_purchase.shipment_fee.cast('int'))"
   ]
  },
  {
   "cell_type": "code",
   "execution_count": 40,
   "id": "75317eeb",
   "metadata": {},
   "outputs": [
    {
     "name": "stdout",
     "output_type": "stream",
     "text": [
      "root\n",
      " |-- Event_Season: string (nullable = true)\n",
      " |-- home_location: string (nullable = true)\n",
      " |-- gender: string (nullable = true)\n",
      " |-- num_cat_highvalue: integer (nullable = true)\n",
      " |-- num_cat_midvalue: integer (nullable = true)\n",
      " |-- num_cat_lowvalue: integer (nullable = true)\n",
      " |-- low_value_ratio: double (nullable = true)\n",
      " |-- high_value_ratio: double (nullable = true)\n",
      " |-- is_promotion: integer (nullable = true)\n",
      " |-- age: integer (nullable = true)\n",
      " |-- year: integer (nullable = true)\n",
      " |-- label: integer (nullable = true)\n",
      " |-- shipment_fee: integer (nullable = true)\n",
      " |-- total_amount: double (nullable = true)\n",
      " |-- payment_method: string (nullable = true)\n",
      " |-- device_type: string (nullable = true)\n",
      "\n"
     ]
    }
   ],
   "source": [
    "feature_df_with_purchase.printSchema()"
   ]
  },
  {
   "cell_type": "code",
   "execution_count": 41,
   "id": "c14ea352",
   "metadata": {},
   "outputs": [
    {
     "name": "stderr",
     "output_type": "stream",
     "text": [
      "[Stage 191:===================>                                     (3 + 6) / 9]\r"
     ]
    },
    {
     "name": "stdout",
     "output_type": "stream",
     "text": [
      "+------+\n",
      "|gender|\n",
      "+------+\n",
      "|  null|\n",
      "|     1|\n",
      "|     0|\n",
      "+------+\n",
      "\n"
     ]
    },
    {
     "name": "stderr",
     "output_type": "stream",
     "text": [
      "\r",
      "                                                                                \r"
     ]
    }
   ],
   "source": [
    "# transformations of gender\n",
    "def M_or_F(s):\n",
    "    if s == 'M':\n",
    "        return 1\n",
    "    elif s == 'F':\n",
    "        return 0\n",
    "    else:\n",
    "        return None\n",
    "\n",
    "# Create a UDF\n",
    "M_or_F_udf = udf(M_or_F, IntegerType())\n",
    "\n",
    "# Apply the UDF to the desired column\n",
    "feature_df_with_purchase = feature_df_with_purchase.withColumn(\"gender\", M_or_F_udf(feature_df_with_purchase[\"gender\"]))\n",
    "\n",
    "feature_df_with_purchase.select('gender').distinct().show()"
   ]
  },
  {
   "cell_type": "code",
   "execution_count": 42,
   "id": "cb0bf18d",
   "metadata": {},
   "outputs": [
    {
     "name": "stderr",
     "output_type": "stream",
     "text": [
      "[Stage 201:>                                                        (0 + 8) / 9]\r"
     ]
    },
    {
     "name": "stdout",
     "output_type": "stream",
     "text": [
      "+-----------+\n",
      "|device_type|\n",
      "+-----------+\n",
      "|       null|\n",
      "|          1|\n",
      "|          0|\n",
      "+-----------+\n",
      "\n"
     ]
    },
    {
     "name": "stderr",
     "output_type": "stream",
     "text": [
      "\r",
      "[Stage 201:===================>                                     (3 + 6) / 9]\r",
      "\r",
      "                                                                                \r"
     ]
    }
   ],
   "source": [
    "# transformation of device \n",
    "def apple_or_android(s):\n",
    "    if s == 'iOS':\n",
    "        return 1\n",
    "    elif s == 'Android':\n",
    "        return 0\n",
    "    else:\n",
    "        return None\n",
    "\n",
    "# Create a UDF\n",
    "apple_or_android_udf = udf(apple_or_android, IntegerType())\n",
    "\n",
    "# Apply the UDF to the desired column\n",
    "feature_df_with_purchase = feature_df_with_purchase.withColumn(\"device_type\", apple_or_android_udf(feature_df_with_purchase[\"device_type\"]))\n",
    "\n",
    "feature_df_with_purchase.select('device_type').distinct().show()"
   ]
  },
  {
   "cell_type": "code",
   "execution_count": 43,
   "id": "75da63dc",
   "metadata": {},
   "outputs": [
    {
     "name": "stderr",
     "output_type": "stream",
     "text": [
      "[Stage 217:==================================================>      (8 + 1) / 9]\r"
     ]
    },
    {
     "name": "stdout",
     "output_type": "stream",
     "text": [
      "+------------+-------------+------+-----------------+----------------+----------------+---------------+----------------+------------+-----+-----+-----+------------+------------+--------------+-----------+\n",
      "|Event_Season|home_location|gender|num_cat_highvalue|num_cat_midvalue|num_cat_lowvalue|low_value_ratio|high_value_ratio|is_promotion|  age| year|label|shipment_fee|total_amount|payment_method|device_type|\n",
      "+------------+-------------+------+-----------------+----------------+----------------+---------------+----------------+------------+-----+-----+-----+------------+------------+--------------+-----------+\n",
      "|           0|        42621| 42621|                0|               0|               0|              0|               0|           0|42621|42621|    0|       42621|       42621|         42621|      42621|\n",
      "+------------+-------------+------+-----------------+----------------+----------------+---------------+----------------+------------+-----+-----+-----+------------+------------+--------------+-----------+\n",
      "\n"
     ]
    },
    {
     "name": "stderr",
     "output_type": "stream",
     "text": [
      "\r",
      "                                                                                \r"
     ]
    }
   ],
   "source": [
    "# Show the null value data\n",
    "feature_df_with_purchase.select([count(when(isnan(c) | col(c).isNull(), c)).alias(c) for c in feature_df_with_purchase.columns]).show()"
   ]
  },
  {
   "cell_type": "code",
   "execution_count": 44,
   "id": "aa6cc5d6",
   "metadata": {},
   "outputs": [],
   "source": [
    "# clear all rows with any null values\n",
    "feature_df_with_purchase = feature_df_with_purchase.dropna(how = 'any')"
   ]
  },
  {
   "cell_type": "code",
   "execution_count": 45,
   "id": "1684898c",
   "metadata": {},
   "outputs": [
    {
     "name": "stderr",
     "output_type": "stream",
     "text": [
      "[Stage 236:=========================>                               (4 + 5) / 9]\r"
     ]
    },
    {
     "name": "stdout",
     "output_type": "stream",
     "text": [
      "+-----+------+\n",
      "|label| count|\n",
      "+-----+------+\n",
      "|    1|527812|\n",
      "|    0|324770|\n",
      "+-----+------+\n",
      "\n"
     ]
    },
    {
     "name": "stderr",
     "output_type": "stream",
     "text": [
      "\r",
      "                                                                                \r"
     ]
    }
   ],
   "source": [
    "boolean_columns = [\"label\"]\n",
    "\n",
    "for col_name in boolean_columns:\n",
    "    feature_df_with_purchase.groupBy(col_name).count().show()"
   ]
  },
  {
   "cell_type": "code",
   "execution_count": 46,
   "id": "db763b62",
   "metadata": {},
   "outputs": [],
   "source": [
    "# issue with the K-means model needed to be repartitioned \n",
    "feature_df_with_purchase = feature_df_with_purchase.repartition(15)  "
   ]
  },
  {
   "cell_type": "code",
   "execution_count": 47,
   "id": "becb06cb",
   "metadata": {},
   "outputs": [
    {
     "name": "stdout",
     "output_type": "stream",
     "text": [
      "root\n",
      " |-- Event_Season: string (nullable = true)\n",
      " |-- home_location: string (nullable = true)\n",
      " |-- gender: integer (nullable = true)\n",
      " |-- num_cat_highvalue: integer (nullable = true)\n",
      " |-- num_cat_midvalue: integer (nullable = true)\n",
      " |-- num_cat_lowvalue: integer (nullable = true)\n",
      " |-- low_value_ratio: double (nullable = true)\n",
      " |-- high_value_ratio: double (nullable = true)\n",
      " |-- is_promotion: integer (nullable = true)\n",
      " |-- age: integer (nullable = true)\n",
      " |-- year: integer (nullable = true)\n",
      " |-- label: integer (nullable = true)\n",
      " |-- shipment_fee: integer (nullable = true)\n",
      " |-- total_amount: double (nullable = true)\n",
      " |-- payment_method: string (nullable = true)\n",
      " |-- device_type: integer (nullable = true)\n",
      "\n"
     ]
    }
   ],
   "source": [
    "feature_df_with_purchase.printSchema()"
   ]
  },
  {
   "cell_type": "code",
   "execution_count": 48,
   "id": "aec70219",
   "metadata": {},
   "outputs": [],
   "source": [
    "# Preparing Spark ML Transformers/Estimators for features, labels, and models ¶"
   ]
  },
  {
   "cell_type": "code",
   "execution_count": 49,
   "id": "5c9c69a4",
   "metadata": {},
   "outputs": [
    {
     "data": {
      "text/plain": [
       "StringIndexer_693d8bfad2e5"
      ]
     },
     "execution_count": 49,
     "metadata": {},
     "output_type": "execute_result"
    }
   ],
   "source": [
    "# stringindex all the category variables\n",
    "indexer = StringIndexer(inputCols=['Event_Season', 'home_location','payment_method'], \n",
    "                        outputCols=['Event_Season_index', 'home_location_index','payment_method_index'])\n",
    "\n",
    "indexer"
   ]
  },
  {
   "cell_type": "code",
   "execution_count": 50,
   "id": "2e53c730",
   "metadata": {},
   "outputs": [
    {
     "data": {
      "text/plain": [
       "OneHotEncoder_5a719747476d"
      ]
     },
     "execution_count": 50,
     "metadata": {},
     "output_type": "execute_result"
    }
   ],
   "source": [
    "# now we need to use the OneHotEncoder\n",
    "encoder = OneHotEncoder(inputCols=['Event_Season_index', 'home_location_index','payment_method_index'], \n",
    "                        outputCols=['Event_Season_vec', 'home_location_vec','payment_method_vec'])\n",
    "\n",
    "encoder"
   ]
  },
  {
   "cell_type": "code",
   "execution_count": 51,
   "id": "51fa64ca",
   "metadata": {},
   "outputs": [
    {
     "data": {
      "text/plain": [
       "VectorAssembler_8947ef9edb77"
      ]
     },
     "execution_count": 51,
     "metadata": {},
     "output_type": "execute_result"
    }
   ],
   "source": [
    "# now we need to use the VectorAssembler to bring it all together \n",
    "assembler = VectorAssembler(\n",
    "    inputCols=[\n",
    "        'Event_Season_vec', \n",
    "        'home_location_vec',\n",
    "        'payment_method_vec',\n",
    "        'gender',  \n",
    "        'age', \n",
    "        'year',\n",
    "        'is_promotion', \n",
    "        'shipment_fee',\n",
    "        'device_type',\n",
    "        'total_amount',        \n",
    "        \n",
    "    ],\n",
    "    outputCol='features'\n",
    ")\n",
    "\n",
    "assembler"
   ]
  },
  {
   "cell_type": "code",
   "execution_count": 53,
   "id": "9d04829f",
   "metadata": {},
   "outputs": [],
   "source": [
    "# create the Random Forest model Estimator\n",
    "rf_estimator = RandomForestClassifier()\n",
    "\n",
    "# create the Gradient-Boosted Tree model Estimator\n",
    "gbt_estimator = GBTClassifier()"
   ]
  },
  {
   "cell_type": "code",
   "execution_count": 54,
   "id": "590dc9b6",
   "metadata": {},
   "outputs": [
    {
     "name": "stdout",
     "output_type": "stream",
     "text": [
      "Random Forest pipeline: Pipeline_56ed8284ccdc\n",
      "Gradient-Boosted Tree pipeline: Pipeline_8e318f1dfbd2\n"
     ]
    }
   ],
   "source": [
    "# create pipeline for Random Forest model\n",
    "rf_pipeline = Pipeline(stages=[\n",
    "    indexer,\n",
    "    encoder,\n",
    "    assembler,\n",
    "    rf_estimator\n",
    "])\n",
    "\n",
    "# create pipeline for Gradient-Boosted model\n",
    "gbt_pipeline = Pipeline(stages=[\n",
    "    indexer,\n",
    "    encoder,\n",
    "    assembler,\n",
    "    gbt_estimator\n",
    "])\n",
    "\n",
    "print(\"Random Forest pipeline:\", rf_pipeline)\n",
    "print(\"Gradient-Boosted Tree pipeline:\", gbt_pipeline)"
   ]
  },
  {
   "cell_type": "code",
   "execution_count": 55,
   "id": "939ec0a3",
   "metadata": {},
   "outputs": [],
   "source": [
    "# slipt data into 80% training and 20% testing\n",
    "sampled_df = feature_df_with_purchase.sample(False, 0.2, seed=1)"
   ]
  },
  {
   "cell_type": "code",
   "execution_count": 56,
   "id": "94c05efc",
   "metadata": {},
   "outputs": [],
   "source": [
    "train_data, test_data = sampled_df.randomSplit([0.8, 0.2], seed=11)"
   ]
  },
  {
   "cell_type": "code",
   "execution_count": 57,
   "id": "ff22813a",
   "metadata": {},
   "outputs": [
    {
     "data": {
      "text/plain": [
       "DataFrame[Event_Season: string, home_location: string, gender: int, num_cat_highvalue: int, num_cat_midvalue: int, num_cat_lowvalue: int, low_value_ratio: double, high_value_ratio: double, is_promotion: int, age: int, year: int, label: int, shipment_fee: int, total_amount: double, payment_method: string, device_type: int]"
      ]
     },
     "execution_count": 57,
     "metadata": {},
     "output_type": "execute_result"
    }
   ],
   "source": [
    "sampled_df.cache()"
   ]
  },
  {
   "cell_type": "code",
   "execution_count": 58,
   "id": "ce5bc058",
   "metadata": {},
   "outputs": [],
   "source": [
    "# Training and evaluating models"
   ]
  },
  {
   "cell_type": "code",
   "execution_count": 59,
   "id": "30b3c00a",
   "metadata": {},
   "outputs": [
    {
     "name": "stderr",
     "output_type": "stream",
     "text": [
      "                                                                                \r"
     ]
    }
   ],
   "source": [
    "# Train the Random Forest model\n",
    "rf_model = rf_pipeline.fit(train_data)\n",
    "\n",
    "# Train the Gradient-Boosted Tree model\n",
    "gbt_model = gbt_pipeline.fit(train_data)\n",
    "\n",
    "# Make predictions on the testing data\n",
    "rf_predictions = rf_model.transform(test_data)\n",
    "gbt_predictions = gbt_model.transform(test_data)"
   ]
  },
  {
   "cell_type": "code",
   "execution_count": 60,
   "id": "40864013",
   "metadata": {},
   "outputs": [
    {
     "name": "stderr",
     "output_type": "stream",
     "text": [
      "                                                                                \r"
     ]
    },
    {
     "name": "stdout",
     "output_type": "stream",
     "text": [
      "Random Forest AUC: 0.7863673814427478\n",
      "Gradient-Boosted Tree AUC: 0.8012628706030079\n"
     ]
    }
   ],
   "source": [
    "# evaluate the models\n",
    "rf_evaluator = BinaryClassificationEvaluator(metricName='areaUnderROC')\n",
    "gbt_evaluator = BinaryClassificationEvaluator(metricName='areaUnderROC')\n",
    "\n",
    "rf_auc = rf_evaluator.evaluate(rf_predictions)\n",
    "gbt_auc = gbt_evaluator.evaluate(gbt_predictions)\n",
    "\n",
    "# AUC scores\n",
    "print(\"Random Forest AUC:\", rf_auc)\n",
    "print(\"Gradient-Boosted Tree AUC:\", gbt_auc)"
   ]
  },
  {
   "cell_type": "code",
   "execution_count": 61,
   "id": "b7cc6f7a",
   "metadata": {},
   "outputs": [
    {
     "data": {
      "text/plain": [
       "((20166, 6546, 6480, 1149), (20151, 6555, 6471, 1164))"
      ]
     },
     "execution_count": 61,
     "metadata": {},
     "output_type": "execute_result"
    }
   ],
   "source": [
    "def confusion_matrix(predictions):\n",
    "     # Calculate the elements of the confusion matrix\n",
    "    TN = predictions.filter('prediction = 0 AND label = 0').count()\n",
    "    TP = predictions.filter('prediction = 1 AND label = 1').count()\n",
    "    FN = predictions.filter('prediction = 0 AND label = 1').count()\n",
    "    FP = predictions.filter('prediction = 1 AND label = 0').count()\n",
    "    return TP,TN,FP,FN\n",
    "\n",
    "\n",
    "rf_metrics = confusion_matrix(rf_predictions)\n",
    "gbt_metrics = confusion_matrix(gbt_predictions)\n",
    "\n",
    "rf_metrics, gbt_metrics"
   ]
  },
  {
   "cell_type": "code",
   "execution_count": 62,
   "id": "b7ded480",
   "metadata": {},
   "outputs": [],
   "source": [
    "def compute_metrics(predictions):\n",
    "    # Calculate elements of the confusion matrix\n",
    "    TN = predictions.filter('prediction = 0 AND label = 0').count()\n",
    "    TP = predictions.filter('prediction = 1 AND label = 1').count()\n",
    "    FN = predictions.filter('prediction = 0 AND label = 1').count()\n",
    "    FP = predictions.filter('prediction = 1 AND label = 0').count()\n",
    "    \n",
    "    # calculate metrics\n",
    "    accuracy = (TP + TN) / (TP + TN + FP + FN)\n",
    "    precision = TP / (TP + FP) if TP + FP != 0 else 0  # handle division by zero\n",
    "    recall = TP / (TP + FN) if TP + FN != 0 else 0    # handle division by zero\n",
    "    \n",
    "    return accuracy, precision, recall"
   ]
  },
  {
   "cell_type": "code",
   "execution_count": 63,
   "id": "45361c47",
   "metadata": {},
   "outputs": [
    {
     "name": "stdout",
     "output_type": "stream",
     "text": [
      "The GBT Accuracy is: 0.7776710055036254, Percision: 0.7569303583502367 and recall is 0.9453905700211119\n",
      "The RF Accuracy is: 0.7778457237704202, Percision: 0.7568115289349245 and recall is 0.946094299788881\n"
     ]
    }
   ],
   "source": [
    "rfp = rf_predictions.select(\"label\", \"prediction\")\n",
    "gbt = gbt_predictions.select(\"label\", \"prediction\")\n",
    "\n",
    "# apply the function\n",
    "gbt_m = compute_metrics(gbt)\n",
    "rfp_m = compute_metrics(rfp)\n",
    "\n",
    "# convert to list \n",
    "gbt_m = list(gbt_m)\n",
    "rfp_m = list(rfp_m)\n",
    "\n",
    "\n",
    "print(f'The GBT Accuracy is: {gbt_m[0]}, Percision: {gbt_m[1]} and recall is {gbt_m[2]}')\n",
    "print(f'The RF Accuracy is: {rfp_m[0]}, Percision: {rfp_m[1]} and recall is {rfp_m[2]}')"
   ]
  },
  {
   "cell_type": "code",
   "execution_count": 66,
   "id": "94fa6251",
   "metadata": {},
   "outputs": [],
   "source": [
    "#User Defined Function to split the probabilities into two columns\n",
    "import pyspark.sql.functions as F\n",
    "import pyspark.sql.types as T\n",
    "to_array = F.udf(lambda v: v.toArray().tolist(), T.ArrayType(T.FloatType()))"
   ]
  },
  {
   "cell_type": "code",
   "execution_count": 67,
   "id": "10827786",
   "metadata": {},
   "outputs": [],
   "source": [
    "df = gbt_predictions.withColumn('probability', to_array('probability'))"
   ]
  },
  {
   "cell_type": "code",
   "execution_count": 68,
   "id": "c2e33634",
   "metadata": {},
   "outputs": [],
   "source": [
    "#A new df which contains the probabilites in separate columns\n",
    "prob_df = df.select(df.probability[0].alias('negative_prob'),df.probability[1].alias('positive_prob'),'label')"
   ]
  },
  {
   "cell_type": "code",
   "execution_count": 69,
   "id": "389823c5",
   "metadata": {},
   "outputs": [
    {
     "name": "stdout",
     "output_type": "stream",
     "text": [
      "TPR: 0.9453905700211119 FPR: 0.49677567941040995\n"
     ]
    }
   ],
   "source": [
    "#for threshold 0.7, lets calculate the TN,TP,FN,FP from confusion matrix\n",
    "threshold=0.7\n",
    "test_df=prob_df.withColumn('prediction',F.when(prob_df.positive_prob > threshold,1).otherwise(0))\n",
    "tp,tn,fp,fn = confusion_matrix(prob_df)  \n",
    "tpr = tp/(tp+fn)\n",
    "fpr = fp/(fp+tn)\n",
    "print('TPR:',tpr,'FPR:',fpr)"
   ]
  },
  {
   "cell_type": "code",
   "execution_count": 70,
   "id": "0b662655",
   "metadata": {
    "scrolled": true
   },
   "outputs": [
    {
     "name": "stderr",
     "output_type": "stream",
     "text": [
      "                                                                                \r"
     ]
    },
    {
     "name": "stdout",
     "output_type": "stream",
     "text": [
      "[(0.1, 0.998639455782313, 0.9705972670044526), (0.2, 0.9470326061459067, 0.5040687855059113), (0.3, 0.946094299788881, 0.49769691386457854), (0.4, 0.946094299788881, 0.49746660525103636), (0.5, 0.9453905700211119, 0.49677567941040995), (0.6, 0.9384471029791227, 0.4899431905419929), (0.7, 0.5342247243725077, 0.14593889144787348), (0.8, 0.36378137461881305, 0.062106556118532164), (0.9, 0.050199390100867936, 0.008751727314601566), (1.0, 0.0, 0.0)]\n",
      "---------------\n",
      "[(0.1, 1.0, 1.0), (0.2, 1.0, 1.0), (0.3, 1.0, 1.0), (0.4, 0.9551958714520291, 0.5907415937356058), (0.5, 0.946094299788881, 0.49746660525103636), (0.6, 0.9441238564391273, 0.4960847535697835), (0.7, 0.36091954022988504, 0.059957009058805466), (0.8, 0.0, 0.0), (0.9, 0.0, 0.0), (1.0, 0.0, 0.0)]\n"
     ]
    }
   ],
   "source": [
    "dfrf = rf_predictions.withColumn('probability', to_array('probability'))\n",
    "prob_dfrf = dfrf.select(dfrf.probability[0].alias('negative_prob'),dfrf.probability[1].alias('positive_prob'),'label')\n",
    "prob_dfrf.withColumn('prediction',F.when(prob_dfrf.positive_prob > threshold,1).otherwise(0))\n",
    "\n",
    "# this fucntion loops through all the thresholds and computes the TPR and TFR \n",
    "#for each threshold. \n",
    "def tpr_fpr(prob_df):\n",
    "    # TPR and TFR values in separate arrays\n",
    "    \n",
    "    tpr_fpr = []\n",
    "    \n",
    "    thresholds = [0.1, 0.2, 0.3, 0.4, 0.5, 0.6, 0.7, 0.8, 0.9, 1.0]\n",
    "    \n",
    "    for threshold in thresholds:\n",
    "        test_df = prob_df.withColumn('prediction', F.when(prob_df.positive_prob > threshold, 1).otherwise(0))\n",
    "        tp, tn, fp, fn = confusion_matrix(test_df)  \n",
    "        tpr = tp / (tp + fn)\n",
    "        fpr = fp / (fp + tn)\n",
    "        tpr_fpr.append((threshold, tpr, fpr))  \n",
    "        \n",
    "    return tpr_fpr\n",
    "\n",
    "# prob_df = gtboost\n",
    "# prob_dfrf = random forest \n",
    "gbt_tpr_fpr = tpr_fpr(prob_df)\n",
    "random_forest_tpr_fpr = tpr_fpr(prob_dfrf)\n",
    "\n",
    "print(gbt_tpr_fpr)\n",
    "print('---------------')\n",
    "print(random_forest_tpr_fpr)"
   ]
  },
  {
   "cell_type": "code",
   "execution_count": 71,
   "id": "2a297919",
   "metadata": {},
   "outputs": [
    {
     "name": "stderr",
     "output_type": "stream",
     "text": [
      "                                                                                \r"
     ]
    }
   ],
   "source": [
    "#Save the Gradient-Boosted Tree model \n",
    "gbt_model_path = \"./gbt_model_new11\"\n",
    "gbt_model.write().overwrite().save(gbt_model_path)"
   ]
  },
  {
   "cell_type": "code",
   "execution_count": 72,
   "id": "e399d9b5",
   "metadata": {},
   "outputs": [],
   "source": [
    "# Customer Segmentation and Knowledge sharing with K-Mean"
   ]
  },
  {
   "cell_type": "code",
   "execution_count": 73,
   "id": "f6f97d21",
   "metadata": {},
   "outputs": [
    {
     "data": {
      "text/plain": [
       "StringIndexer_ad329ba2f3a1"
      ]
     },
     "execution_count": 73,
     "metadata": {},
     "output_type": "execute_result"
    }
   ],
   "source": [
    "from pyspark.ml import Pipeline\n",
    "from pyspark.ml.feature import StringIndexer, OneHotEncoder, VectorAssembler, StandardScaler\n",
    "from pyspark.ml.clustering import KMeans\n",
    "from pyspark.ml.evaluation import ClusteringEvaluator\n",
    "# stringindex all the category variables\n",
    "indexer = StringIndexer(inputCols=['Event_Season', 'home_location'], \n",
    "                        outputCols=['Event_Season_index', 'home_location_index'])\n",
    "\n",
    "indexer"
   ]
  },
  {
   "cell_type": "code",
   "execution_count": 74,
   "id": "f20809b5",
   "metadata": {},
   "outputs": [
    {
     "data": {
      "text/plain": [
       "OneHotEncoder_85259d14ba8b"
      ]
     },
     "execution_count": 74,
     "metadata": {},
     "output_type": "execute_result"
    }
   ],
   "source": [
    "# now we need to use the OneHotEncoder\n",
    "from pyspark.ml.feature import OneHotEncoder\n",
    "\n",
    "encoder = OneHotEncoder(inputCols=['Event_Season_index', 'home_location_index'], \n",
    "                        outputCols=['Event_Season_vec', 'home_location_vec'])\n",
    "\n",
    "encoder"
   ]
  },
  {
   "cell_type": "code",
   "execution_count": 75,
   "id": "f1da8b2b",
   "metadata": {},
   "outputs": [
    {
     "data": {
      "text/plain": [
       "VectorAssembler_9ba9ebd0126c"
      ]
     },
     "execution_count": 75,
     "metadata": {},
     "output_type": "execute_result"
    }
   ],
   "source": [
    "assembler = VectorAssembler(\n",
    "    inputCols=[\n",
    "        'Event_Season_vec',\n",
    "        'home_location_vec',\n",
    "        'gender',\n",
    "        'age', \n",
    "        'device_type',\n",
    "        'total_amount',\n",
    "    ],\n",
    "    outputCol='features'\n",
    ")\n",
    "assembler"
   ]
  },
  {
   "cell_type": "code",
   "execution_count": 76,
   "id": "904f462f",
   "metadata": {},
   "outputs": [],
   "source": [
    "# StandardScaler to scale the assembled features\n",
    "scaler = StandardScaler(\n",
    "    inputCol=\"features\",\n",
    "    outputCol=\"scaledFeatures\",\n",
    "    withStd=True,\n",
    "    withMean=True\n",
    ")\n"
   ]
  },
  {
   "cell_type": "code",
   "execution_count": 77,
   "id": "06418bc9",
   "metadata": {},
   "outputs": [],
   "source": [
    "#Define the K-Means estimator with number of clusters =2\n",
    "#Create a KMeans Model Estimator initialized with 2 clusters\n",
    "k_means = KMeans(featuresCol='features', k=2)"
   ]
  },
  {
   "cell_type": "code",
   "execution_count": 78,
   "id": "884265e9",
   "metadata": {},
   "outputs": [],
   "source": [
    "# Creating the pipeline\n",
    "pipeline = Pipeline(stages=[\n",
    "    indexer, \n",
    "    encoder, \n",
    "    assembler, \n",
    "    scaler, \n",
    "    k_means\n",
    "])"
   ]
  },
  {
   "cell_type": "code",
   "execution_count": 79,
   "id": "96cf5ff1",
   "metadata": {},
   "outputs": [
    {
     "name": "stderr",
     "output_type": "stream",
     "text": [
      "\r",
      "[Stage 2812:=============================>                         (8 + 7) / 15]\r",
      "\r",
      "                                                                                \r"
     ]
    }
   ],
   "source": [
    "# Fitting the pipeline to the original data\n",
    "model = pipeline.fit(sampled_df)\n",
    "\n",
    "# Transforming the data through the pipeline\n",
    "predictions = model.transform(sampled_df)"
   ]
  },
  {
   "cell_type": "code",
   "execution_count": 80,
   "id": "3a9d3094",
   "metadata": {},
   "outputs": [
    {
     "name": "stdout",
     "output_type": "stream",
     "text": [
      "+--------------------+----------+--------------------+\n",
      "|            features|prediction|      scaledFeatures|\n",
      "+--------------------+----------+--------------------+\n",
      "|(39,[0,9,36,38],[...|         0|[1.59403970784341...|\n",
      "|(39,[2,3,36,38],[...|         1|[-0.6273332679045...|\n",
      "|(39,[1,3,36,38],[...|         1|[-0.6273332679045...|\n",
      "+--------------------+----------+--------------------+\n",
      "only showing top 3 rows\n",
      "\n"
     ]
    }
   ],
   "source": [
    "predictions.select('features','prediction','scaledFeatures').show(3)"
   ]
  },
  {
   "cell_type": "code",
   "execution_count": 81,
   "id": "05e14a7b",
   "metadata": {},
   "outputs": [],
   "source": [
    "#Display the number of instances grouped by cluster\n",
    "# # # Evaluate clustering by computing Silhouette score\n",
    "evaluator = ClusteringEvaluator()"
   ]
  },
  {
   "cell_type": "code",
   "execution_count": 82,
   "id": "6f1fba46",
   "metadata": {},
   "outputs": [
    {
     "name": "stdout",
     "output_type": "stream",
     "text": [
      "Silhouette with squared euclidean distance = 0.5184397246574902\n"
     ]
    }
   ],
   "source": [
    "#Calculate the Silhouette Score for the Pipeline Model\n",
    "silhouette = evaluator.evaluate(predictions)\n",
    "print(\"Silhouette with squared euclidean distance = \" + str(silhouette))"
   ]
  },
  {
   "cell_type": "code",
   "execution_count": 83,
   "id": "1e884563",
   "metadata": {},
   "outputs": [
    {
     "name": "stdout",
     "output_type": "stream",
     "text": [
      "Silhouette with squared euclidean distance for k=2 is 0.5078013077040943\n"
     ]
    },
    {
     "name": "stderr",
     "output_type": "stream",
     "text": [
      "\r",
      "[Stage 3269:=============================>                         (8 + 7) / 15]\r",
      "\r",
      "                                                                                \r"
     ]
    },
    {
     "name": "stdout",
     "output_type": "stream",
     "text": [
      "Silhouette with squared euclidean distance for k=3 is 0.5886153742910105\n"
     ]
    },
    {
     "name": "stderr",
     "output_type": "stream",
     "text": [
      "\r",
      "[Stage 3530:=============================>                         (8 + 7) / 15]\r",
      "\r",
      "                                                                                \r"
     ]
    },
    {
     "name": "stdout",
     "output_type": "stream",
     "text": [
      "Silhouette with squared euclidean distance for k=4 is 0.48174826288017963\n",
      "Silhouette with squared euclidean distance for k=5 is 0.4687398236097412\n"
     ]
    },
    {
     "name": "stderr",
     "output_type": "stream",
     "text": [
      "                                                                                \r"
     ]
    },
    {
     "name": "stdout",
     "output_type": "stream",
     "text": [
      "Silhouette with squared euclidean distance for k=6 is 0.4523481025378426\n",
      "Silhouette with squared euclidean distance for k=7 is 0.45285241506774887\n"
     ]
    },
    {
     "name": "stderr",
     "output_type": "stream",
     "text": [
      "                                                                                \r"
     ]
    },
    {
     "name": "stdout",
     "output_type": "stream",
     "text": [
      "Silhouette with squared euclidean distance for k=8 is 0.43668241855629075\n"
     ]
    },
    {
     "name": "stderr",
     "output_type": "stream",
     "text": [
      "\r",
      "[Stage 4955:=============================>                         (8 + 7) / 15]\r",
      "\r",
      "                                                                                \r"
     ]
    },
    {
     "name": "stdout",
     "output_type": "stream",
     "text": [
      "Silhouette with squared euclidean distance for k=9 is 0.43717406881362475\n",
      "Silhouette with squared euclidean distance for k=10 is 0.4367839972956869\n"
     ]
    },
    {
     "data": {
      "image/png": "[encoded data removed]",
      "text/plain": [
       "<Figure size 1000x500 with 1 Axes>"
      ]
     },
     "metadata": {},
     "output_type": "display_data"
    }
   ],
   "source": [
    "from pyspark.ml import Pipeline\n",
    "from pyspark.ml.clustering import KMeans\n",
    "from pyspark.ml.evaluation import ClusteringEvaluator\n",
    "import matplotlib.pyplot as plt\n",
    "\n",
    "k_values = list(range(2, 11)) \n",
    "silhouette_list = []\n",
    "for k in k_values:\n",
    "    k_means = KMeans().setK(k).setSeed(1)\n",
    "    \n",
    "    updated_pipeline = Pipeline(stages=[\n",
    "        indexer, \n",
    "        encoder, \n",
    "        assembler, \n",
    "        scaler, \n",
    "        k_means\n",
    "    ])\n",
    "    \n",
    "# fitting and transforming\n",
    "    updated_model = updated_pipeline.fit(sampled_df)\n",
    "    predictions = updated_model.transform(sampled_df)\n",
    "    \n",
    "# silhouette score \n",
    "    silhouette = evaluator.evaluate(predictions)\n",
    "    silhouette_list.append(silhouette)\n",
    "    print(f\"Silhouette with squared euclidean distance for k={k} is {silhouette}\")\n",
    "\n",
    "    \n",
    "    \n",
    "    \n",
    "# plot\n",
    "plt.figure(figsize=(10,5))\n",
    "plt.plot(k_values, silhouette_list, 'rx-')\n",
    "plt.xlabel('k')\n",
    "plt.ylabel('Silhouette Score')\n",
    "plt.title('Silhouette Method For Optimal k')\n",
    "plt.show()"
   ]
  },
  {
   "cell_type": "code",
   "execution_count": 84,
   "id": "fc5423fe",
   "metadata": {},
   "outputs": [
    {
     "name": "stderr",
     "output_type": "stream",
     "text": [
      "                                                                                \r"
     ]
    },
    {
     "data": {
      "image/png": "[encoded data removed]",
      "text/plain": [
       "<Figure size 1000x600 with 1 Axes>"
      ]
     },
     "metadata": {},
     "output_type": "display_data"
    }
   ],
   "source": [
    "# use the optimal number of clusters for plotting \n",
    "optimal_k = 3\n",
    "k_means_optimal = KMeans().setK(optimal_k).setSeed(1)\n",
    "\n",
    "# Building a new pipeline with the optimal KMeans model\n",
    "optimal_pipeline = Pipeline(stages=[\n",
    "    indexer, \n",
    "    encoder, \n",
    "    assembler, \n",
    "    scaler, \n",
    "    k_means_optimal\n",
    "])\n",
    "\n",
    "# fitting and transforming the 3 clusters \n",
    "optimal_model = optimal_pipeline.fit(sampled_df)\n",
    "predictions_optimal = optimal_model.transform(sampled_df)\n",
    "\n",
    "# convert to pandas \n",
    "predictions_pd = predictions_optimal.toPandas()\n",
    "\n",
    "# age plot\n",
    "import seaborn as sns\n",
    "plt.figure(figsize=(10,6))\n",
    "sns.boxplot(x='prediction', y='age', data=predictions_pd)\n",
    "plt.title('Age')\n",
    "plt.show()"
   ]
  },
  {
   "cell_type": "code",
   "execution_count": 85,
   "id": "c24ce849",
   "metadata": {},
   "outputs": [
    {
     "data": {
      "image/png": "[encoded data removed]",
      "text/plain": [
       "<Figure size 1000x600 with 1 Axes>"
      ]
     },
     "metadata": {},
     "output_type": "display_data"
    }
   ],
   "source": [
    "# total amount plot\n",
    "plt.figure(figsize=(10,6))\n",
    "sns.boxplot(x='prediction', y='total_amount', data=predictions_pd)\n",
    "plt.title('The Total Amount Spent')\n",
    "plt.show()"
   ]
  },
  {
   "cell_type": "code",
   "execution_count": 86,
   "id": "0dd6c553",
   "metadata": {},
   "outputs": [
    {
     "data": {
      "image/png": "[encoded data removed]",
      "text/plain": [
       "<Figure size 1000x600 with 1 Axes>"
      ]
     },
     "metadata": {},
     "output_type": "display_data"
    }
   ],
   "source": [
    "# gender plot\n",
    "plt.figure(figsize=(10,6))\n",
    "sns.countplot(x='prediction', hue='gender', data=predictions_pd)\n",
    "plt.title('Gender | Female = 0 | Male = 1')\n",
    "plt.show()"
   ]
  },
  {
   "cell_type": "markdown",
   "id": "e3242476",
   "metadata": {},
   "source": [
    "Using K-means clustering algorithm to segment the customers based on these features:\n",
    "\n",
    "Home location\n",
    "Device type\n",
    "Age\n",
    "Gender\n",
    "Season\n",
    "this resulted in the optimal number of clusters was K = 3.\n",
    "\n",
    "Cluster 1: These customers are mostly female who have the age of around mid 30's in most cases and are considered average spenders in terms of average amount spent for each purchase.\n",
    "\n",
    "Cluster 2: These customers have a slightly younger median age which sits around 26-27 but have a much larger distribution in terms of variance. Theses cusotmers are our biggest spenders in terms of total amount with a median of 125, however are much less common and are slightly more likely to be female.\n",
    "\n",
    "Cluster 3: These customers are our youngest with all being under 30 and most are mid to early 20's. These cusotmers are overwhelmingly female almost double and spend around the same as cluster 1 with a median of around 108 for total amount per purchase.\n",
    "\n",
    "Based on theses different kinds of cusomters the business can tailor targetd adds to these groups or use this infomation in other was to increase profits."
   ]
  },
  {
   "cell_type": "code",
   "execution_count": null,
   "id": "3223d915",
   "metadata": {},
   "outputs": [],
   "source": []
  }
 ],
 "metadata": {
  "kernelspec": {
   "display_name": "Python 3 (ipykernel)",
   "language": "python",
   "name": "python3"
  },
  "language_info": {
   "codemirror_mode": {
    "name": "ipython",
    "version": 3
   },
   "file_extension": ".py",
   "mimetype": "text/x-python",
   "name": "python",
   "nbconvert_exporter": "python",
   "pygments_lexer": "ipython3",
   "version": "3.9.13"
  }
 },
 "nbformat": 4,
 "nbformat_minor": 5
}
